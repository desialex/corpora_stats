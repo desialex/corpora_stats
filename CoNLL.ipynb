{
 "cells": [
  {
   "cell_type": "code",
   "execution_count": 61,
   "metadata": {
    "collapsed": true
   },
   "outputs": [],
   "source": [
    "import re\n",
    "\n",
    "from conllu import parse  # https://github.com/EmilStenstrom/conllu\n",
    "from conllu import parse_tree"
   ]
  },
  {
   "cell_type": "code",
   "execution_count": 74,
   "metadata": {},
   "outputs": [],
   "source": [
    "DEV = '/Users/desialex/Dropbox/Maitrise/Corpora/UD_French-FTB/CoNLL-U_no_contractions/fr_ftb-ud-dev.conllu'\n",
    "TEST = '/Users/desialex/Dropbox/Maitrise/Corpora/UD_French-FTB/CoNLL-U_no_contractions/fr_ftb-ud-test.conllu'\n",
    "TRAIN = '/Users/desialex/Dropbox/Maitrise/Corpora/UD_French-FTB/CoNLL-U_no_contractions/fr_ftb-ud-train.conllu'"
   ]
  },
  {
   "cell_type": "code",
   "execution_count": 73,
   "metadata": {},
   "outputs": [],
   "source": [
    "def load_conll(file_name: str):\n",
    "    \"\"\"\n",
    "    Skip lines containing contractions. \n",
    "    Return conll file as a single string.\n",
    "    \"\"\"\n",
    "    with open(file_name, 'r') as conll:\n",
    "        lines = [line for line in conll.readlines() \n",
    "                      if not re.search('\\d+-\\d+', line)]\n",
    "    return ''.join(lines)\n",
    "\n",
    "def parse_conll(file_name=str):\n",
    "    \"\"\"\n",
    "    Read a CoNLL file and return\n",
    "    a list of sentences as TokenTree objects.\n",
    "    \"\"\"\n",
    "    return parse_tree(load_conll(file_name))\n"
   ]
  },
  {
   "cell_type": "code",
   "execution_count": 75,
   "metadata": {},
   "outputs": [],
   "source": [
    "dev = parse_conll(DEV)\n",
    "test = parse_conll(TEST)\n",
    "train = parse_conll(TRAIN)\n",
    "corpus = dev+test+train"
   ]
  },
  {
   "cell_type": "markdown",
   "metadata": {},
   "source": [
    "## conllu library basic functionality"
   ]
  },
  {
   "cell_type": "code",
   "execution_count": 79,
   "metadata": {},
   "outputs": [
    {
     "data": {
      "text/plain": [
       "[TokenList<Nous, prions, les, cinéastes, et, tous, nos, lecteurs, de, bien, vouloir, nous, en, excuser, .>,\n",
       " TokenList<La, diffusion, de, les, prévisions, météorologiques, était, fortement, perturbée, ,, mardi, 7, janvier, ,, par, le, mouvement, de, grève, nationale, de, trente, -, six, heures, déclenché, la, veille, à, le, soir, ,, à, l', appel, de, les, délégués, CGT, ,, CFDT, et, FO, de, le, personnel, technique, de, Météo, -, France, .>]"
      ]
     },
     "execution_count": 79,
     "metadata": {},
     "output_type": "execute_result"
    }
   ],
   "source": [
    "sentences = parse(load_conll(DEV))  # parse the CoNNL-U file as a list of linear sentences =TokenList\n",
    "sentences[:2]"
   ]
  },
  {
   "cell_type": "code",
   "execution_count": 80,
   "metadata": {},
   "outputs": [
    {
     "data": {
      "text/plain": [
       "TokenList<Nous, prions, les, cinéastes, et, tous, nos, lecteurs, de, bien, vouloir, nous, en, excuser, .>"
      ]
     },
     "execution_count": 80,
     "metadata": {},
     "output_type": "execute_result"
    }
   ],
   "source": [
    "sentence = sentences[0]  # the sentence as a list of tokens linearly ordered\n",
    "sentence"
   ]
  },
  {
   "cell_type": "code",
   "execution_count": 81,
   "metadata": {},
   "outputs": [
    {
     "data": {
      "text/plain": [
       "OrderedDict([('id', 1),\n",
       "             ('form', 'Nous'),\n",
       "             ('lemma', 'il'),\n",
       "             ('upostag', 'PRON'),\n",
       "             ('xpostag', None),\n",
       "             ('feats',\n",
       "              OrderedDict([('Gender', 'Masc'),\n",
       "                           ('Number', 'Plur'),\n",
       "                           ('Person', '1')])),\n",
       "             ('head', 2),\n",
       "             ('deprel', 'nsubj'),\n",
       "             ('deps', None),\n",
       "             ('misc', None)])"
      ]
     },
     "execution_count": 81,
     "metadata": {},
     "output_type": "execute_result"
    }
   ],
   "source": [
    "token = sentence[0]  # the token as a nested ordered dictionary\n",
    "token"
   ]
  },
  {
   "cell_type": "code",
   "execution_count": 82,
   "metadata": {
    "collapsed": true
   },
   "outputs": [],
   "source": [
    "structures = parse_tree(load_conll(DEV))  # the corpus into a list of arborescent sentences =TokenTree"
   ]
  },
  {
   "cell_type": "code",
   "execution_count": 219,
   "metadata": {},
   "outputs": [
    {
     "data": {
      "text/plain": [
       "[TokenTree<token={id=2, form=prions}, children=[...]>,\n",
       " TokenTree<token={id=(3, '-', 4), form=des}, children=None>,\n",
       " TokenTree<token={id=7, form=veulent}, children=[...]>,\n",
       " TokenTree<token={id=3, form=protestent}, children=[...]>,\n",
       " TokenTree<token={id=5, form=empêche}, children=[...]>]"
      ]
     },
     "execution_count": 219,
     "metadata": {},
     "output_type": "execute_result"
    }
   ],
   "source": [
    "structures[:5]"
   ]
  },
  {
   "cell_type": "code",
   "execution_count": 259,
   "metadata": {},
   "outputs": [
    {
     "data": {
      "text/plain": [
       "TokenTree<token={id=2, form=prions}, children=[...]>"
      ]
     },
     "execution_count": 259,
     "metadata": {},
     "output_type": "execute_result"
    }
   ],
   "source": [
    "structure = structures[0]\n",
    "structure"
   ]
  },
  {
   "cell_type": "code",
   "execution_count": 260,
   "metadata": {
    "scrolled": true
   },
   "outputs": [
    {
     "name": "stdout",
     "output_type": "stream",
     "text": [
      "(deprel:root) form:prions lemma:prier upostag:VERB [2]\n",
      "    (deprel:nsubj) form:Nous lemma:il upostag:PRON [1]\n",
      "    (deprel:obj) form:cinéastes lemma:cinéaste upostag:NOUN [4]\n",
      "        (deprel:det) form:les lemma:le upostag:DET [3]\n",
      "        (deprel:conj) form:lecteurs lemma:lecteur upostag:NOUN [8]\n",
      "            (deprel:cc) form:et lemma:et upostag:CCONJ [5]\n",
      "            (deprel:amod) form:tous lemma:tout upostag:ADJ [6]\n",
      "            (deprel:det) form:nos lemma:son upostag:DET [7]\n",
      "    (deprel:xcomp) form:vouloir lemma:vouloir upostag:AUX [11]\n",
      "        (deprel:mark) form:de lemma:de upostag:ADP [9]\n",
      "        (deprel:advmod) form:bien lemma:bien upostag:ADV [10]\n",
      "        (deprel:xcomp) form:excuser lemma:excuser upostag:VERB [14]\n",
      "            (deprel:iobj) form:nous lemma:le/lui upostag:PRON [12]\n",
      "            (deprel:obj) form:en lemma:en upostag:PRON [13]\n",
      "    (deprel:punct) form:. lemma:. upostag:PUNCT [15]\n"
     ]
    }
   ],
   "source": [
    "structure.print_tree()"
   ]
  },
  {
   "cell_type": "code",
   "execution_count": 79,
   "metadata": {},
   "outputs": [
    {
     "data": {
      "text/plain": [
       "[TokenTree<token={id=1, form=Nous}, children=None>,\n",
       " TokenTree<token={id=4, form=cinéastes}, children=[...]>,\n",
       " TokenTree<token={id=11, form=vouloir}, children=[...]>,\n",
       " TokenTree<token={id=15, form=.}, children=None>]"
      ]
     },
     "execution_count": 79,
     "metadata": {},
     "output_type": "execute_result"
    }
   ],
   "source": [
    "structure.children  # returns a list of the children as TokenTree objects"
   ]
  },
  {
   "cell_type": "code",
   "execution_count": 76,
   "metadata": {
    "scrolled": true
   },
   "outputs": [
    {
     "data": {
      "text/plain": [
       "OrderedDict([('id', 2),\n",
       "             ('form', 'prions'),\n",
       "             ('lemma', 'prier'),\n",
       "             ('upostag', 'VERB'),\n",
       "             ('xpostag', None),\n",
       "             ('feats',\n",
       "              OrderedDict([('Mood', 'Ind'),\n",
       "                           ('Number', 'Plur'),\n",
       "                           ('Person', '1'),\n",
       "                           ('Tense', 'Pres'),\n",
       "                           ('VerbForm', 'Fin')])),\n",
       "             ('head', 0),\n",
       "             ('deprel', 'root'),\n",
       "             ('deps', None),\n",
       "             ('misc', None)])"
      ]
     },
     "execution_count": 76,
     "metadata": {},
     "output_type": "execute_result"
    }
   ],
   "source": [
    "structure.token  # returns the token as an OrderedDict"
   ]
  },
  {
   "cell_type": "markdown",
   "metadata": {},
   "source": [
    "## POS -rel-> POS query"
   ]
  },
  {
   "cell_type": "code",
   "execution_count": 3,
   "metadata": {
    "collapsed": true
   },
   "outputs": [],
   "source": [
    "# Search the forest tree by tree\n",
    "\n",
    "def search_trees(forest, relation, gov, dep):\n",
    "    for root in forest:\n",
    "        meta = root.metadata['text']\n",
    "        find_relations(root, meta, relation, gov, dep)\n"
   ]
  },
  {
   "cell_type": "code",
   "execution_count": 4,
   "metadata": {
    "collapsed": true
   },
   "outputs": [],
   "source": [
    "# Walk through the tree and find matching (POS rel POS) triplets\n",
    "\n",
    "def find_relations(root, meta, relation, gov, dep):\n",
    "    if root.children:\n",
    "        for child in root.children:\n",
    "            if root.token['upostag'] == gov.upper():\n",
    "                if child.token['upostag'] == dep.upper() and child.token['deprel'] == relation:\n",
    "                    print(root.token['upostag'], \n",
    "                          root.token['form'], \n",
    "                          '---',\n",
    "                          relation, \n",
    "                          '-->',\n",
    "                          child.token['upostag'], \n",
    "                          child.token['form'],\n",
    "                          '\\n',\n",
    "                          meta,\n",
    "                          '\\n')\n",
    "            find_relations(child, meta, relation, gov, dep)"
   ]
  },
  {
   "cell_type": "code",
   "execution_count": 5,
   "metadata": {},
   "outputs": [
    {
     "name": "stdout",
     "output_type": "stream",
     "text": [
      "NOUN corvée --- csubj --> VERB remplir \n",
      " PENDANT des années, remplir les bulletins de paie de l'indispensable et industrieuse \"employée de maison\" (terme plus noble que celui, légèrement méprisant, de \"femme de ménage\") était une corvée pesante à assumer. \n",
      "\n",
      "NOUN façon --- csubj --> VERB calculer \n",
      " Un de nos lecteurs, retraité et polytechnicien, a écrit à l'URSSAF pour faire remarquer que calculer les cotisations à partir du salaire net (après déduction des cotisations salariales) en ignorant complètement le salaire brut n'était sans doute pas la meilleure façon de procéder. \n",
      "\n"
     ]
    }
   ],
   "source": [
    "search_trees(dev, 'csubj', 'noun', 'verb')"
   ]
  },
  {
   "cell_type": "code",
   "execution_count": null,
   "metadata": {},
   "outputs": [],
   "source": [
    "search_trees(test, 'csubj', 'verb', 'noun')"
   ]
  },
  {
   "cell_type": "code",
   "execution_count": null,
   "metadata": {},
   "outputs": [],
   "source": [
    "search_trees(train, 'det', 'noun', 'num')"
   ]
  },
  {
   "cell_type": "markdown",
   "metadata": {},
   "source": [
    "## Children per branch\n",
    "For each branch (=relation), get all possible configurations of children attached to that branch, then get the total for each configuration. \n",
    "> ex: For the relation **det** get all possible configurations of children of the node introduced by this relation (0, 1, 2, 3, 4, 5, 6, 8) and the total for each configuration (81325, 231, 2528, 29, 16, 3, 1, 1)\n",
    "\n",
    "(See the results in the file FTB_rel_stats.numbers, under tab Children)"
   ]
  },
  {
   "cell_type": "code",
   "execution_count": 22,
   "metadata": {
    "collapsed": true
   },
   "outputs": [],
   "source": [
    "def children_per_branch(forest):\n",
    "    dictionary = dict()  # defines the dictionary var\n",
    "    for root in forest:\n",
    "        climb_tree(root, dictionary)\n",
    "    return dictionary"
   ]
  },
  {
   "cell_type": "code",
   "execution_count": 23,
   "metadata": {
    "collapsed": true
   },
   "outputs": [],
   "source": [
    "def climb_tree(root, dictionary):\n",
    "    count_children(root, dictionary)\n",
    "    if root.children:\n",
    "        for child in root.children:\n",
    "            climb_tree(child, dictionary)"
   ]
  },
  {
   "cell_type": "code",
   "execution_count": 24,
   "metadata": {
    "collapsed": true
   },
   "outputs": [],
   "source": [
    "def count_children(root, dictionary):\n",
    "    if root.token['deprel'] in dictionary:\n",
    "        if str(len(root.children)) in dictionary[root.token['deprel']]:\n",
    "            dictionary[root.token['deprel']][str(len(root.children))] += 1\n",
    "        else:\n",
    "            dictionary[root.token['deprel']][str(len(root.children))] = 1\n",
    "    else:\n",
    "        dictionary[root.token['deprel']] = {str(len(root.children)):1}"
   ]
  },
  {
   "cell_type": "code",
   "execution_count": 25,
   "metadata": {
    "collapsed": true
   },
   "outputs": [],
   "source": [
    "children = children_per_branch(dev+test+train)"
   ]
  },
  {
   "cell_type": "markdown",
   "metadata": {},
   "source": [
    "## Tree rel stats\n",
    "Creates a dictionary where for each phrase (identified by the text_id), we have: \n",
    "* the text\n",
    "* the sentence object\n",
    "* the set of relations and for each relation, \n",
    "    * the number of children of the node introduced by this relation."
   ]
  },
  {
   "cell_type": "code",
   "execution_count": 26,
   "metadata": {
    "collapsed": true
   },
   "outputs": [],
   "source": [
    "def tree_rel_stats(forest):\n",
    "    stats = dict()\n",
    "    for root in forest:\n",
    "        tree = str(root.metadata['sent_id'])\n",
    "        stats[tree] = {'text':root.metadata['text']}\n",
    "        stats[tree].update({'object':root})\n",
    "        get_rels(tree, root, stats)\n",
    "    return stats"
   ]
  },
  {
   "cell_type": "code",
   "execution_count": 27,
   "metadata": {
    "collapsed": true
   },
   "outputs": [],
   "source": [
    "def get_rels(tree, root, stats):\n",
    "    stats[tree].update({root.token['deprel']:len(root.children)})\n",
    "    if root.children:\n",
    "        for child in root.children:\n",
    "            get_rels(tree, child, stats)"
   ]
  },
  {
   "cell_type": "code",
   "execution_count": 46,
   "metadata": {
    "collapsed": true
   },
   "outputs": [],
   "source": [
    "forest_stats = tree_rel_stats(test)"
   ]
  },
  {
   "cell_type": "code",
   "execution_count": 50,
   "metadata": {},
   "outputs": [
    {
     "data": {
      "text/plain": [
       "'flmf7ad1co-290'"
      ]
     },
     "execution_count": 50,
     "metadata": {},
     "output_type": "execute_result"
    }
   ],
   "source": [
    "list(forest_stats)[0]"
   ]
  },
  {
   "cell_type": "code",
   "execution_count": 52,
   "metadata": {},
   "outputs": [
    {
     "data": {
      "text/plain": [
       "{'acl': 1,\n",
       " 'advmod': 0,\n",
       " 'amod': 0,\n",
       " 'aux:pass': 0,\n",
       " 'case': 0,\n",
       " 'cc': 0,\n",
       " 'conj': 4,\n",
       " 'det': 0,\n",
       " 'fixed': 0,\n",
       " 'nmod': 1,\n",
       " 'nsubj': 2,\n",
       " 'nummod': 0,\n",
       " 'object': TokenTree<token={id=35, form=fixée}, children=[...]>,\n",
       " 'obl': 3,\n",
       " 'punct': 0,\n",
       " 'root': 6,\n",
       " 'text': \"La limite des intérêts des emprunts contractés depuis le 18 septembre 1991 pour l'acquisition d'un logement neuf (intérêts déductibles des impôts à raison de 25%) est fixée à 20 000 francs pour les personnes seules contre 15 000 francs précédemment et à 40 000 francs pour les couples mariés soumis à une imposition commune, contre 30 000 francs précédemment.\"}"
      ]
     },
     "execution_count": 52,
     "metadata": {},
     "output_type": "execute_result"
    }
   ],
   "source": [
    "forest_stats['flmf7ad1co-290']"
   ]
  },
  {
   "cell_type": "code",
   "execution_count": null,
   "metadata": {},
   "outputs": [],
   "source": [
    "# Get the arborescent structure of an entry\n",
    "forest_stats['flmf7ad1co-290']['object'].print_tree()"
   ]
  },
  {
   "cell_type": "markdown",
   "metadata": {},
   "source": [
    "### Query the tree rel stats dictionary"
   ]
  },
  {
   "cell_type": "code",
   "execution_count": 54,
   "metadata": {
    "collapsed": true
   },
   "outputs": [],
   "source": [
    "# Get all structures with a given relation and number of children.\n",
    "\n",
    "def get_branches(forest, relation: str, children: int):\n",
    "    branches = []\n",
    "    for tree in forest:\n",
    "        if relation in forest[tree].keys():\n",
    "            if forest[tree][relation] == children:\n",
    "                branches.append(forest[tree])\n",
    "    return branches"
   ]
  },
  {
   "cell_type": "code",
   "execution_count": 33,
   "metadata": {},
   "outputs": [],
   "source": [
    "dets = get_branches(forest_stats, 'det', 2)"
   ]
  },
  {
   "cell_type": "code",
   "execution_count": 44,
   "metadata": {},
   "outputs": [
    {
     "data": {
      "text/plain": [
       "\"Sur cela se greffe la perspective d'une augmentation de capital d'Hachette au cours de 76,30 francs, ce qui représente une décote de 20% par rapport au dernier cours enregistré (95,40 francs).\""
      ]
     },
     "execution_count": 44,
     "metadata": {},
     "output_type": "execute_result"
    }
   ],
   "source": [
    "dets[3]['text']"
   ]
  },
  {
   "cell_type": "code",
   "execution_count": 35,
   "metadata": {
    "scrolled": true
   },
   "outputs": [
    {
     "name": "stdout",
     "output_type": "stream",
     "text": [
      "(deprel:root) form:greffe lemma:greffer upostag:VERB [4]\n",
      "    (deprel:obl) form:cela lemma:cela upostag:PRON [2]\n",
      "        (deprel:case) form:Sur lemma:sur upostag:ADP [1]\n",
      "    (deprel:expl) form:se lemma:le/lui upostag:PRON [3]\n",
      "    (deprel:nsubj) form:perspective lemma:perspective upostag:NOUN [6]\n",
      "        (deprel:det) form:la lemma:le upostag:DET [5]\n",
      "        (deprel:nmod) form:augmentation lemma:augmentation upostag:NOUN [9]\n",
      "            (deprel:case) form:d' lemma:de upostag:ADP [7]\n",
      "            (deprel:det) form:une lemma:un upostag:DET [8]\n",
      "            (deprel:nmod) form:capital lemma:capital upostag:NOUN [11]\n",
      "                (deprel:case) form:de lemma:de upostag:ADP [10]\n",
      "            (deprel:nmod) form:Hachette lemma:Hachette upostag:PROPN [13]\n",
      "                (deprel:case) form:d' lemma:de upostag:ADP [12]\n",
      "            (deprel:nmod) form:cours lemma:cours upostag:NOUN [16]\n",
      "                (deprel:case) form:à lemma:à upostag:ADP [14]\n",
      "                (deprel:det) form:le lemma:le upostag:DET [15]\n",
      "                (deprel:nmod) form:francs lemma:franc upostag:NOUN [21]\n",
      "                    (deprel:case) form:de lemma:de upostag:ADP [17]\n",
      "                    (deprel:det) form:76 lemma:76 upostag:NUM [18]\n",
      "                        (deprel:fixed) form:, lemma:, upostag:PUNCT [19]\n",
      "                        (deprel:fixed) form:30 lemma:30 upostag:NUM [20]\n",
      "    (deprel:punct) form:, lemma:, upostag:PUNCT [22]\n",
      "    (deprel:iobj) form:ce lemma:ce upostag:PRON [23]\n",
      "        (deprel:acl:relcl) form:représente lemma:représenter upostag:VERB [25]\n",
      "            (deprel:nsubj) form:qui lemma:qui upostag:PRON [24]\n",
      "            (deprel:obj) form:décote lemma:décote upostag:NOUN [27]\n",
      "                (deprel:det) form:une lemma:un upostag:DET [26]\n",
      "                (deprel:nmod) form:% lemma:% upostag:NOUN [30]\n",
      "                    (deprel:case) form:de lemma:de upostag:ADP [28]\n",
      "                    (deprel:nummod) form:20 lemma:20 upostag:NUM [29]\n",
      "                (deprel:nmod) form:cours lemma:cours upostag:NOUN [36]\n",
      "                    (deprel:case) form:par lemma:par upostag:ADP [31]\n",
      "                        (deprel:fixed) form:rapport lemma:rapport upostag:NOUN [32]\n",
      "                        (deprel:fixed) form:à lemma:à upostag:ADP [33]\n",
      "                    (deprel:det) form:le lemma:le upostag:DET [34]\n",
      "                    (deprel:amod) form:dernier lemma:dernier upostag:ADJ [35]\n",
      "                    (deprel:acl) form:enregistré lemma:enregistrer upostag:VERB [37]\n",
      "                    (deprel:punct) form:( lemma:( upostag:PUNCT [38]\n",
      "                    (deprel:nmod) form:francs lemma:franc upostag:NOUN [42]\n",
      "                        (deprel:det) form:95 lemma:95 upostag:NUM [39]\n",
      "                            (deprel:fixed) form:, lemma:, upostag:PUNCT [40]\n",
      "                            (deprel:fixed) form:40 lemma:40 upostag:NUM [41]\n",
      "                (deprel:punct) form:) lemma:) upostag:PUNCT [43]\n",
      "    (deprel:punct) form:. lemma:. upostag:PUNCT [44]\n"
     ]
    }
   ],
   "source": [
    "dets[3]['object'].print_tree()"
   ]
  },
  {
   "cell_type": "code",
   "execution_count": null,
   "metadata": {
    "collapsed": true
   },
   "outputs": [],
   "source": []
  },
  {
   "cell_type": "code",
   "execution_count": null,
   "metadata": {},
   "outputs": [],
   "source": []
  },
  {
   "cell_type": "code",
   "execution_count": 201,
   "metadata": {
    "collapsed": true
   },
   "outputs": [
    {
     "name": "stdout",
     "output_type": "stream",
     "text": [
      "flmf7ab2ep-777\n",
      "flmf7ab2ep-834\n",
      "flmf7ab2ep-941\n",
      "flmf7ab2ep-987\n",
      "flmf7ae1ep-400\n",
      "flmf7af2ep-591\n",
      "flmf7af2ep-717\n",
      "flmf7af2ep-719\n",
      "flmf7af2ep-763\n",
      "flmf7af2ep-801\n",
      "flmf7af2ep-908\n",
      "flmf7af2ep-1007\n"
     ]
    }
   ],
   "source": [
    "# Phrases with multiple subjects\n",
    "\n",
    "for root in dev:\n",
    "    if root.children:\n",
    "        children = []\n",
    "        for child in root.children:\n",
    "            children.append(child.token['deprel'])\n",
    "        if children.count('nsubj') > 1:\n",
    "            print(root.metadata['sent_id'])\n",
    "            #print(root.print_tree())\n",
    "        "
   ]
  }
 ],
 "metadata": {
  "kernelspec": {
   "display_name": "Python 3",
   "language": "python",
   "name": "python3"
  },
  "language_info": {
   "codemirror_mode": {
    "name": "ipython",
    "version": 3
   },
   "file_extension": ".py",
   "mimetype": "text/x-python",
   "name": "python",
   "nbconvert_exporter": "python",
   "pygments_lexer": "ipython3",
   "version": "3.6.1"
  }
 },
 "nbformat": 4,
 "nbformat_minor": 2
}
